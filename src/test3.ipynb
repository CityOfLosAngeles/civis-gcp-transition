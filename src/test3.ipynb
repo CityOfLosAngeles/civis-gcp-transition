{
 "cells": [
  {
   "cell_type": "code",
   "execution_count": 1,
   "id": "eac231c3",
   "metadata": {},
   "outputs": [],
   "source": [
    "# Source: https://github.com/prestinomills/aqueduct/blob/Know_Your_Community_Pipelines/civis/geohub/ActiveBusinessBlockgroupAggregation/Active_Business_Finalized_Script.py\n",
    "# %load active_business_script.py\n",
    "\"\"\"\n",
    "Created on Wed May  1 08:51:03 2019\n",
    "@author: myrfid041\n",
    "\"\"\"\n",
    "import geopandas as gpd\n",
    "import os\n",
    "import pandas as pd\n",
    "\n",
    "import esri_credentials\n",
    "\n",
    "from sodapy import Socrata\n",
    "from arcgis.gis import GIS\n",
    "from arcgis.features.summarize_data import join_features\n",
    "from IPython.display import display\n",
    "from arcgis.features import FeatureLayer, FeatureLayerCollection, FeatureCollection, SpatialDataFrame\n",
    "from copy import deepcopy\n",
    "\n",
    "#---Setting the Outputs\n",
    "OUTPUT_FILE = \"./Listing_of_Active_Businesses.csv\"\n",
    "output_layer_name = \"a7236cc62ded454c94a64e9d80d6304a\"\n",
    "max_record_count = 250_000\n",
    "\n",
    "df = pd.read_pickle(\"./cleaned_df.p\")\n",
    "\n",
    "layer_rename_columns_dict = {\n",
    "    'Accommodation and Food Services': 'Accommodation_and_Food_Services',\n",
    "    'Administrative and Support and Waste Management and Remediation Services': 'Administrative_and_Support_and_',\n",
    "    'Agriculture, Forestry, Fishing and Hunting': 'Agriculture__Forestry__Fishing_',\n",
    "    'Arts, Entertainment, and Recreation': 'Arts__Entertainment__and_Recrea',\n",
    "    'Construction': 'Construction',\n",
    "    'Educational Services': 'Educational_Services',\n",
    "    'Finance and Insurance': 'Finance_and_Insurance',\n",
    "    'Health Care and Social Assistance': 'Health_Care_and_Social_Assistan',\n",
    "    'Information': 'Information',\n",
    "    'Manufacturing': 'Manufacturing',\n",
    "    'Medical Marijuana Collective': 'Medical_Marijuana_Collective',\n",
    "    'Mining': 'Mining',\n",
    "    'Not Classified': 'Not_Classified',\n",
    "    'Other Services (except Public Administration)': 'Other_Services__except_Public_A',\n",
    "    'Professional, Scientific, and Technical Services': 'Professional__Scientific__and_T',\n",
    "    'Real Estate Rental and Leasing': 'Real_Estate_Rental_and_Leasing',\n",
    "    'Retail Trade': 'Retail_Trade',\n",
    "    'Transportation and Warehousing': 'Transportation_and_Warehousing',\n",
    "    'Utilities': 'Utilities',\n",
    "    'Wholesale Trade': 'Wholesale_Trade'                                               \n",
    "}\n",
    "\n",
    "lahub_user = esri_credentials.preston_user\n",
    "lahub_pass = esri_credentials.preston_pw"
   ]
  },
  {
   "cell_type": "code",
   "execution_count": 2,
   "id": "6d35c8d5",
   "metadata": {},
   "outputs": [],
   "source": [
    "gis = GIS('https://lahub.maps.arcgis.com',  username=lahub_user, password=lahub_pass)\n",
    "\n",
    "flayer = gis.content.get(output_layer_name)\n",
    "\n",
    "ActiveBusinesses_flayer = flayer.layers[0].query()\n",
    "existing_table = ActiveBusinesses_flayer.sdf"
   ]
  },
  {
   "cell_type": "code",
   "execution_count": 3,
   "id": "289684c7",
   "metadata": {},
   "outputs": [],
   "source": [
    "new_updated_table = (df[df.GEOID10.isin(existing_table.GEOID10)]\n",
    "                     [[\"GEOID10\"] + list(layer_rename_columns_dict.values())]\n",
    "                    )\n",
    "UPDATED_VALUES_DICT = new_updated_table.set_index(\"GEOID10\").to_dict(orient=\"index\")"
   ]
  },
  {
   "cell_type": "code",
   "execution_count": 4,
   "id": "c80fef52",
   "metadata": {},
   "outputs": [],
   "source": [
    "feature_list = ActiveBusinesses_flayer.features\n",
    "features_to_be_updated = deepcopy(feature_list)"
   ]
  },
  {
   "cell_type": "code",
   "execution_count": null,
   "id": "b51651b1",
   "metadata": {},
   "outputs": [],
   "source": [
    "''' Some are missing...let's just leave those values intact\n",
    "\n",
    "import numpy as np\n",
    "\n",
    "existing_list = list(existing_table.GEOID10)\n",
    "new_list = list(new_updated_table.GEOID10)\n",
    "missing_geoid = list(np.setdiff1d(existing_list, new_list))\n",
    "'''"
   ]
  },
  {
   "cell_type": "code",
   "execution_count": 13,
   "id": "4fcc310d",
   "metadata": {},
   "outputs": [],
   "source": [
    "for i in range(0, len(features_to_be_updated)):\n",
    "    obs = features_to_be_updated[i]\n",
    "    try:\n",
    "        geoid = obs.attributes[\"GEOID10\"]\n",
    "        for col in layer_rename_columns_dict.values():\n",
    "            obs.attributes[col] = UPDATED_VALUES_DICT[geoid][col]\n",
    "    except:\n",
    "        pass"
   ]
  },
  {
   "cell_type": "code",
   "execution_count": 17,
   "id": "ddad2f7c",
   "metadata": {},
   "outputs": [
    {
     "name": "stdout",
     "output_type": "stream",
     "text": [
      "update successful\n",
      "update successful\n",
      "update successful\n",
      "update successful\n",
      "update successful\n",
      "update successful\n",
      "update successful\n"
     ]
    }
   ],
   "source": [
    "def chunks(l, n, z):\n",
    "    \"\"\"Yield successive n-sized chunks from l.\"\"\"\n",
    "    for i in range(0, len(l), n):\n",
    "        chunk_list=l[i:i + n]\n",
    "        z.edit_features(updates= chunk_list)\n",
    "        print(\"update successful\")\n",
    "\n",
    "chunks(features_to_be_updated, 1000, flayer.layers[0])"
   ]
  }
 ],
 "metadata": {
  "kernelspec": {
   "display_name": "Python 3",
   "language": "python",
   "name": "python3"
  },
  "language_info": {
   "codemirror_mode": {
    "name": "ipython",
    "version": 3
   },
   "file_extension": ".py",
   "mimetype": "text/x-python",
   "name": "python",
   "nbconvert_exporter": "python",
   "pygments_lexer": "ipython3",
   "version": "3.7.8"
  }
 },
 "nbformat": 4,
 "nbformat_minor": 5
}
