{
 "cells": [
  {
   "cell_type": "code",
   "execution_count": 2,
   "id": "90dc2ef9",
   "metadata": {},
   "outputs": [
    {
     "name": "stdout",
     "output_type": "stream",
     "text": [
      "Requirement already up-to-date: pyarrow in /opt/conda/lib/python3.7/site-packages (5.0.0)\n",
      "Requirement already satisfied, skipping upgrade: numpy>=1.16.6 in /opt/conda/lib/python3.7/site-packages (from pyarrow) (1.21.0)\n"
     ]
    }
   ],
   "source": [
    "!pip install -U pyarrow"
   ]
  },
  {
   "cell_type": "code",
   "execution_count": 3,
   "id": "a3004587",
   "metadata": {},
   "outputs": [],
   "source": [
    "# Source: https://github.com/prestinomills/aqueduct/blob/Know_Your_Community_Pipelines/civis/geohub/ActiveBusinessBlockgroupAggregation/Active_Business_Finalized_Script.py\n",
    "# %load active_business_script.py\n",
    "\"\"\"\n",
    "Created on Wed May  1 08:51:03 2019\n",
    "@author: myrfid041\n",
    "\"\"\"\n",
    "import geopandas as gpd\n",
    "import os\n",
    "import pandas as pd\n",
    "\n",
    "import utils\n",
    "from civis_aqueduct_utils.github import upload_file_to_github\n",
    "\n",
    "from sodapy import Socrata\n",
    "from arcgis.gis import GIS\n",
    "from arcgis.features.summarize_data import join_features\n",
    "from arcgis.features import FeatureLayer, FeatureLayerCollection\n",
    "from copy import deepcopy\n",
    "from IPython.display import display\n",
    "\n",
    "import esri_credentials\n",
    "lahub_user = esri_credentials.preston_user\n",
    "lahub_pass = esri_credentials.preston_pw\n",
    "\n",
    "#---Setting the Outputs\n",
    "OUTPUT_FILE = \"./Listing_of_Active_Businesses.csv\"\n",
    "output_layer_name = \"a7236cc62ded454c94a64e9d80d6304a\"\n",
    "\n",
    "'''\n",
    "ESRI stores the column names slightly differently (subject to 10 char limits)\n",
    "Use dict to map and rename (key-value pair)\n",
    "Key: dataframe's existing column name\n",
    "Value: ESRI column name\n",
    "'''\n",
    "LAYER_RENAME_COLUMNS_DICT = {\n",
    "    'Accommodation and Food Services': 'Accommodation_and_Food_Services',\n",
    "    'Administrative and Support and Waste Management and Remediation Services': 'Administrative_and_Support_and_',\n",
    "    'Agriculture, Forestry, Fishing and Hunting': 'Agriculture__Forestry__Fishing_',\n",
    "    'Arts, Entertainment, and Recreation': 'Arts__Entertainment__and_Recrea',\n",
    "    'Construction': 'Construction',\n",
    "    'Educational Services': 'Educational_Services',\n",
    "    'Finance and Insurance': 'Finance_and_Insurance',\n",
    "    'Health Care and Social Assistance': 'Health_Care_and_Social_Assistan',\n",
    "    'Information': 'Information',\n",
    "    'Manufacturing': 'Manufacturing',\n",
    "    'Medical Marijuana Collective': 'Medical_Marijuana_Collective',\n",
    "    'Mining': 'Mining',\n",
    "    'Not Classified': 'Not_Classified',\n",
    "    'Other Services (except Public Administration)': 'Other_Services__except_Public_A',\n",
    "    'Professional, Scientific, and Technical Services': 'Professional__Scientific__and_T',\n",
    "    'Real Estate Rental and Leasing': 'Real_Estate_Rental_and_Leasing',\n",
    "    'Retail Trade': 'Retail_Trade',\n",
    "    'Transportation and Warehousing': 'Transportation_and_Warehousing',\n",
    "    'Utilities': 'Utilities',\n",
    "    'Wholesale Trade': 'Wholesale_Trade'                                               \n",
    "}"
   ]
  },
  {
   "cell_type": "code",
   "execution_count": 4,
   "id": "6f9ee7f8",
   "metadata": {},
   "outputs": [],
   "source": [
    "df = pd.read_pickle(\"./cleaned_df.p\")"
   ]
  },
  {
   "cell_type": "code",
   "execution_count": 5,
   "id": "2cceb6e0",
   "metadata": {},
   "outputs": [],
   "source": [
    "gis = GIS('https://lahub.maps.arcgis.com', username=lahub_user, password=lahub_pass)\n",
    "flayer = gis.content.get(output_layer_name)\n",
    "ActiveBusinesses_flayer = flayer.layers[0]\n",
    "ActiveBusinesses_fset = ActiveBusinesses_flayer.query() #querying without any conditions returns all the features"
   ]
  },
  {
   "cell_type": "code",
   "execution_count": 6,
   "id": "f15e6ca0",
   "metadata": {},
   "outputs": [],
   "source": [
    "# Grab the spatial dataframe in the layer\n",
    "# Drop the GEOID10s that don't have a match in the existing sdf\n",
    "# Only keep the columns to update (various industries), and leave geometry columns intact\n",
    "existing_table = ActiveBusinesses_fset.sdf\n",
    "\n",
    "industry_cols = list(LAYER_RENAME_COLUMNS_DICT.values())\n",
    "\n",
    "new_updated_table = (df[df.GEOID10.isin(existing_table.GEOID10)]\n",
    "                     .rename(columns = LAYER_RENAME_COLUMNS_DICT)\n",
    "                 [[\"GEOID10\"] + industry_cols]\n",
    "                )\n",
    "new_updated_table[industry_cols] = new_updated_table[industry_cols].fillna(0).astype(int)\n"
   ]
  },
  {
   "cell_type": "code",
   "execution_count": 7,
   "id": "d38b218d",
   "metadata": {},
   "outputs": [],
   "source": [
    "#new_updated_table.to_parquet(\"./new_updated_table.parquet\", engine=\"pyarrow\")"
   ]
  },
  {
   "cell_type": "code",
   "execution_count": null,
   "id": "8499f982",
   "metadata": {},
   "outputs": [],
   "source": [
    "# Introduce changes to look for\n",
    "check_me = [\"060372932023\", \"060372941201\"]\n",
    "\n",
    "for c in LAYER_RENAME_COLUMNS_DICT.values():\n",
    "    new_updated_table[c] = new_updated_table.apply(lambda x: 3_000 if x.GEOID10 in check_me\n",
    "                                    else x[c], axis=1)"
   ]
  },
  {
   "cell_type": "code",
   "execution_count": null,
   "id": "23f5ec05",
   "metadata": {},
   "outputs": [],
   "source": [
    "new_updated_table[new_updated_table.GEOID10.isin(check_me)]"
   ]
  },
  {
   "cell_type": "code",
   "execution_count": null,
   "id": "a42b0df3",
   "metadata": {},
   "outputs": [],
   "source": [
    "updated_values_dict = new_updated_table.set_index(\"GEOID10\").to_dict(orient=\"index\")"
   ]
  },
  {
   "cell_type": "code",
   "execution_count": null,
   "id": "55f59a90",
   "metadata": {},
   "outputs": [],
   "source": [
    "# Grab the features, save as a list\n",
    "feature_list = ActiveBusinesses_fset.features\n",
    "features_to_be_updated = feature_list[:]"
   ]
  },
  {
   "cell_type": "code",
   "execution_count": null,
   "id": "7f747354",
   "metadata": {},
   "outputs": [],
   "source": [
    "# Loop through each GEOID, then loop through the columns, and update the values\n",
    "# Use try/except because there are some GEOIDs in the original sdf that aren't in our df (about 10ish)\n",
    "# Leave these with original values, since we don't have updated values\n",
    "for i in range(0, len(features_to_be_updated)):\n",
    "    obs = features_to_be_updated[i]\n",
    "try:\n",
    "    geoid = obs.attributes[\"GEOID10\"]\n",
    "    if geoid in check_me:\n",
    "        for col in LAYER_RENAME_COLUMNS_DICT.values():\n",
    "            #print(f\"orig: {obs.attributes[col]}, new: {updated_values_dict[geoid][col]}\")\n",
    "            #obs.attributes[col] = updated_values_dict[geoid][col]\n",
    "            features_to_be_updated[i].attributes[col] = updated_values_dict[geoid][col]\n",
    "            #print(features_to_be_updated[i].attributes[col])\n",
    "except:\n",
    "    pass"
   ]
  },
  {
   "cell_type": "code",
   "execution_count": null,
   "id": "8ac9a191",
   "metadata": {},
   "outputs": [],
   "source": [
    "features_to_be_updated"
   ]
  },
  {
   "cell_type": "code",
   "execution_count": null,
   "id": "0babacd2",
   "metadata": {},
   "outputs": [],
   "source": [
    "utils.chunks(features_to_be_updated, 1000, ActiveBusinesses_flayer)"
   ]
  },
  {
   "cell_type": "code",
   "execution_count": null,
   "id": "37d709b5",
   "metadata": {},
   "outputs": [],
   "source": []
  }
 ],
 "metadata": {
  "kernelspec": {
   "display_name": "Python 3",
   "language": "python",
   "name": "python3"
  },
  "language_info": {
   "codemirror_mode": {
    "name": "ipython",
    "version": 3
   },
   "file_extension": ".py",
   "mimetype": "text/x-python",
   "name": "python",
   "nbconvert_exporter": "python",
   "pygments_lexer": "ipython3",
   "version": "3.7.8"
  }
 },
 "nbformat": 4,
 "nbformat_minor": 5
}
