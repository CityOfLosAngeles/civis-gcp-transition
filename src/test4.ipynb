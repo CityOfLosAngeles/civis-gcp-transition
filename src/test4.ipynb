{
 "cells": [
  {
   "cell_type": "code",
   "execution_count": 1,
   "id": "82d79b12",
   "metadata": {},
   "outputs": [],
   "source": [
    "# Source: https://github.com/prestinomills/aqueduct/blob/Know_Your_Community_Pipelines/civis/geohub/ActiveBusinessBlockgroupAggregation/Active_Business_Finalized_Script.py\n",
    "# %load active_business_script.py\n",
    "\"\"\"\n",
    "Created on Wed May  1 08:51:03 2019\n",
    "@author: myrfid041\n",
    "\"\"\"\n",
    "import geopandas as gpd\n",
    "import os\n",
    "import pandas as pd\n",
    "\n",
    "import utils\n",
    "from civis_aqueduct_utils.github import upload_file_to_github\n",
    "\n",
    "from sodapy import Socrata\n",
    "from arcgis.gis import GIS\n",
    "from arcgis.features.summarize_data import join_features\n",
    "from arcgis.features import FeatureLayer, FeatureLayerCollection\n",
    "from copy import deepcopy\n",
    "from IPython.display import display\n",
    "\n",
    "import esri_credentials\n",
    "lahub_user = esri_credentials.preston_user\n",
    "lahub_pass = esri_credentials.preston_pw\n",
    "\n",
    "#---Setting the Outputs\n",
    "OUTPUT_FILE = \"./Listing_of_Active_Businesses.csv\"\n",
    "output_layer_name = \"a7236cc62ded454c94a64e9d80d6304a\"\n",
    "\n",
    "'''\n",
    "ESRI stores the column names slightly differently (subject to 10 char limits)\n",
    "Use dict to map and rename (key-value pair)\n",
    "Key: dataframe's existing column name\n",
    "Value: ESRI column name\n",
    "'''\n",
    "LAYER_RENAME_COLUMNS_DICT = {\n",
    "    'Accommodation and Food Services': 'Accommodation_and_Food_Services',\n",
    "    'Administrative and Support and Waste Management and Remediation Services': 'Administrative_and_Support_and_',\n",
    "    'Agriculture, Forestry, Fishing and Hunting': 'Agriculture__Forestry__Fishing_',\n",
    "    'Arts, Entertainment, and Recreation': 'Arts__Entertainment__and_Recrea',\n",
    "    'Construction': 'Construction',\n",
    "    'Educational Services': 'Educational_Services',\n",
    "    'Finance and Insurance': 'Finance_and_Insurance',\n",
    "    'Health Care and Social Assistance': 'Health_Care_and_Social_Assistan',\n",
    "    'Information': 'Information',\n",
    "    'Manufacturing': 'Manufacturing',\n",
    "    'Medical Marijuana Collective': 'Medical_Marijuana_Collective',\n",
    "    'Mining': 'Mining',\n",
    "    'Not Classified': 'Not_Classified',\n",
    "    'Other Services (except Public Administration)': 'Other_Services__except_Public_A',\n",
    "    'Professional, Scientific, and Technical Services': 'Professional__Scientific__and_T',\n",
    "    'Real Estate Rental and Leasing': 'Real_Estate_Rental_and_Leasing',\n",
    "    'Retail Trade': 'Retail_Trade',\n",
    "    'Transportation and Warehousing': 'Transportation_and_Warehousing',\n",
    "    'Utilities': 'Utilities',\n",
    "    'Wholesale Trade': 'Wholesale_Trade'                                               \n",
    "}"
   ]
  },
  {
   "cell_type": "code",
   "execution_count": 2,
   "id": "ab41d088",
   "metadata": {},
   "outputs": [],
   "source": [
    "new_updated_table = pd.read_parquet('./new_updated_table.parquet')\n",
    "\n",
    "updated_values_dict = new_updated_table.set_index(\"GEOID10\").to_dict(orient=\"index\")"
   ]
  },
  {
   "cell_type": "code",
   "execution_count": 3,
   "id": "8125b863",
   "metadata": {},
   "outputs": [],
   "source": [
    "gis = GIS('https://lahub.maps.arcgis.com', username=lahub_user, password=lahub_pass)\n",
    "flayer = gis.content.get(output_layer_name)\n",
    "ActiveBusinesses_flayer = flayer.layers[0]\n",
    "ActiveBusinesses_fset = ActiveBusinesses_flayer.query()\n",
    "# Grab the features, save as a list\n",
    "feature_list = ActiveBusinesses_fset.features"
   ]
  },
  {
   "cell_type": "code",
   "execution_count": 4,
   "id": "979a03ef",
   "metadata": {},
   "outputs": [],
   "source": [
    "# Loop through each GEOID, then loop through the columns, and update the values\n",
    "# Use try/except because there are some GEOIDs in the original sdf that aren't in our df (about 10ish)\n",
    "# Leave these with original values, since we don't have updated values\n",
    "updated_features = []\n",
    "for i in range(0, len(feature_list)):\n",
    "    original_feature = [f for f in feature_list][i]\n",
    "    feature_to_be_updated = deepcopy(original_feature)\n",
    "    attributes_to_update = feature_to_be_updated.attributes\n",
    "    geoid = attributes_to_update[\"GEOID10\"]\n",
    "    try:\n",
    "        for col in list(LAYER_RENAME_COLUMNS_DICT.values()):\n",
    "            '''\n",
    "            This doesn't work: \n",
    "            feature_to_be_updated[col] = updated_values_dict[geoid][col]\n",
    "\n",
    "            feature_to_be_updated[col] is a features object...not a dict\n",
    "            \n",
    "            print(type(feature_list[0]))\n",
    "            print(type(feature_list[0].attributes))\n",
    "            \n",
    "            Somehow, it won't let us key into the dict and change values\n",
    "            But, since we earlier got into the attributes, we can update the values for each attribute\n",
    "            https://gis.stackexchange.com/questions/394259/esri-notebook-select-and-append-records-to-table\n",
    "            '''\n",
    "            attributes_to_update[col] = int(updated_values_dict[geoid][col])\n",
    "        updated_features.append(feature_to_be_updated)\n",
    "        \n",
    "    except:\n",
    "        pass"
   ]
  },
  {
   "cell_type": "code",
   "execution_count": 5,
   "id": "710b42d3",
   "metadata": {},
   "outputs": [
    {
     "name": "stdout",
     "output_type": "stream",
     "text": [
      "update successful\n",
      "update successful\n",
      "update successful\n",
      "update successful\n",
      "update successful\n",
      "update successful\n",
      "update successful\n"
     ]
    }
   ],
   "source": [
    "utils.chunks(updated_features, 1000, ActiveBusinesses_flayer)"
   ]
  },
  {
   "cell_type": "code",
   "execution_count": null,
   "id": "e748e09d",
   "metadata": {},
   "outputs": [],
   "source": []
  }
 ],
 "metadata": {
  "kernelspec": {
   "display_name": "Python 3",
   "language": "python",
   "name": "python3"
  },
  "language_info": {
   "codemirror_mode": {
    "name": "ipython",
    "version": 3
   },
   "file_extension": ".py",
   "mimetype": "text/x-python",
   "name": "python",
   "nbconvert_exporter": "python",
   "pygments_lexer": "ipython3",
   "version": "3.7.8"
  }
 },
 "nbformat": 4,
 "nbformat_minor": 5
}
