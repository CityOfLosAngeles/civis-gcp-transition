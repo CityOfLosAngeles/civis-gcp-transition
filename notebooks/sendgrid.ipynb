{
 "cells": [
  {
   "cell_type": "markdown",
   "id": "ec2edc2b",
   "metadata": {},
   "source": [
    "# Test SendGrid email integration\n",
    "* [Python example](https://realpython.com/python-send-email/)\n",
    "* [Sendgrid example](https://docs.sendgrid.com/for-developers/sending-email/v3-python-code-example)\n",
    "* [Stack overflow ex 1](https://stackoverflow.com/questions/58935356/attributeerror-sendgridapiclient-object-has-no-attribute-send/58940926#58940926), [ex 2: pdf attachment](https://stackoverflow.com/questions/40656019/python-sendgrid-send-email-with-pdf-attachment-file), [ex 3: simple html](https://www.twilio.com/blog/how-to-send-emails-in-python-with-sendgrid)\n",
    "* [GitHub issue](https://github.com/sendgrid/sendgrid-python/issues/856)\n",
    "* [dotenv](https://stackoverflow.com/questions/41546883/what-is-the-use-of-python-dotenv)"
   ]
  },
  {
   "cell_type": "code",
   "execution_count": 1,
   "id": "0ca7cf62",
   "metadata": {},
   "outputs": [
    {
     "data": {
      "text/plain": [
       "True"
      ]
     },
     "execution_count": 1,
     "metadata": {},
     "output_type": "execute_result"
    }
   ],
   "source": [
    "import dotenv\n",
    "import os\n",
    "\n",
    "from common_utils import utils\n",
    "\n",
    "dotenv.load_dotenv()"
   ]
  },
  {
   "cell_type": "code",
   "execution_count": 2,
   "id": "49b22222",
   "metadata": {},
   "outputs": [
    {
     "name": "stdout",
     "output_type": "stream",
     "text": [
      "202\n",
      "b''\n",
      "Server: nginx\n",
      "Date: Tue, 10 Aug 2021 16:55:57 GMT\n",
      "Content-Length: 0\n",
      "Connection: close\n",
      "X-Message-Id: 0eLcOI2TTw6yjBYY-J4w_A\n",
      "Access-Control-Allow-Origin: https://sendgrid.api-docs.io\n",
      "Access-Control-Allow-Methods: POST\n",
      "Access-Control-Allow-Headers: Authorization, Content-Type, On-behalf-of, x-sg-elas-acl\n",
      "Access-Control-Max-Age: 600\n",
      "X-No-CORS-Reason: https://sendgrid.com/docs/Classroom/Basics/API/cors.html\n",
      "Strict-Transport-Security: max-age=600; includeSubDomains\n",
      "\n",
      "\n"
     ]
    }
   ],
   "source": [
    "EMAIL_SENDER = \"tiffany.chu@lacity.org\"\n",
    "EMAIL_RECIPIENT = EMAIL_SENDER\n",
    "EMAIL_SUBJECT = \"SendGrid Test Email\"\n",
    "BODY_TEXT = \"<strong>Here's some bolded text.</strong>\"\n",
    "SENDGRID_API = os.environ[\"SENDGRID_API_KEY\"]\n",
    "\n",
    "OUTPUT_DICT = {\n",
    "    \"../notebooks/Data Engineering Cookbook.pdf\": \"Data_Engineering_Codebook.pdf\",\n",
    "    \"../notebooks/Forrester.pdf\": \"Forrester_Reading.pdf\",\n",
    "    \"../notebooks/How_to_Recalculate_a_Median.pdf\": \"Recalculate_Median.pdf\"\n",
    "}\n",
    "\n",
    "utils.sendgrid_pdf(EMAIL_SENDER, EMAIL_RECIPIENT, EMAIL_SUBJECT, BODY_TEXT,\n",
    "                    OUTPUT_DICT, SENDGRID_API)"
   ]
  }
 ],
 "metadata": {
  "kernelspec": {
   "display_name": "Python 3",
   "language": "python",
   "name": "python3"
  },
  "language_info": {
   "codemirror_mode": {
    "name": "ipython",
    "version": 3
   },
   "file_extension": ".py",
   "mimetype": "text/x-python",
   "name": "python",
   "nbconvert_exporter": "python",
   "pygments_lexer": "ipython3",
   "version": "3.7.8"
  }
 },
 "nbformat": 4,
 "nbformat_minor": 5
}
