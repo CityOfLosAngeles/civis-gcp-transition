{
 "cells": [
  {
   "cell_type": "markdown",
   "id": "b45a94ae",
   "metadata": {},
   "source": [
    "# Test SendGrid email integration\n",
    "* [Python example](https://realpython.com/python-send-email/)\n",
    "* [Sendgrid example](https://docs.sendgrid.com/for-developers/sending-email/v3-python-code-example)\n",
    "* [Stack overflow ex 1](https://stackoverflow.com/questions/58935356/attributeerror-sendgridapiclient-object-has-no-attribute-send/58940926#58940926), [ex 2: pdf attachment](https://stackoverflow.com/questions/40656019/python-sendgrid-send-email-with-pdf-attachment-file), [ex 3: simple html](https://www.twilio.com/blog/how-to-send-emails-in-python-with-sendgrid)\n",
    "* [GitHub issue](https://github.com/sendgrid/sendgrid-python/issues/856)\n",
    "* [dotenv](https://stackoverflow.com/questions/41546883/what-is-the-use-of-python-dotenv)"
   ]
  },
  {
   "cell_type": "code",
   "execution_count": null,
   "id": "b38a797d",
   "metadata": {},
   "outputs": [],
   "source": [
    "#!pip install sendgrid\n",
    "#!pip install python-dotenv"
   ]
  },
  {
   "cell_type": "code",
   "execution_count": 11,
   "id": "8d403c59",
   "metadata": {},
   "outputs": [],
   "source": [
    "import base64\n",
    "import dotenv\n",
    "import json\n",
    "import os\n",
    "import urllib.request as urllib\n",
    "\n",
    "from sendgrid import SendGridAPIClient\n",
    "from sendgrid.helpers.mail import (Mail, Attachment, FileContent, FileName, FileType, Disposition, ContentId)\n",
    "\n",
    "dotenv.load_dotenv()\n",
    "\n",
    "def sendgrid_simple_html(EMAIL_SENDER, EMAIL_RECIPIENT, EMAIL_SUBJECT, BODY_TEXT, SENDGRID_API):\n",
    "    message = Mail(\n",
    "        from_email=EMAIL_SENDER,\n",
    "        to_emails=EMAIL_RECIPIENT,\n",
    "        subject=EMAIL_SUBJECT,\n",
    "        html_content=BODY_TEXT)\n",
    "\n",
    "    try:\n",
    "        sg = SendGridAPIClient(SENDGRID_API)\n",
    "        response = sg.send(message)\n",
    "        print(response.status_code)\n",
    "        print(response.body)\n",
    "        print(response.headers)\n",
    "    except Exception as e:\n",
    "        print(e.message)"
   ]
  },
  {
   "cell_type": "code",
   "execution_count": 12,
   "id": "7a8d75ee",
   "metadata": {},
   "outputs": [],
   "source": [
    "def sendgrid_one_pdf(EMAIL_SENDER, EMAIL_RECIPIENT, EMAIL_SUBJECT, BODY_TEXT,\n",
    "                    OUTPUT_FILE_PATH, OUTPUT_FILE_NAME, SENDGRID_API):\n",
    "    message = Mail(\n",
    "        from_email=EMAIL_SENDER,\n",
    "        to_emails=EMAIL_RECIPIENT,\n",
    "        subject=EMAIL_SUBJECT,\n",
    "        html_content=BODY_TEXT)\n",
    "\n",
    "    with open(OUTPUT_FILE_PATH, 'rb') as f:\n",
    "        data = f.read()\n",
    "        f.close()\n",
    "    encoded = base64.b64encode(data).decode()\n",
    "    attachment = Attachment()\n",
    "    attachment.file_content = FileContent(encoded)\n",
    "    attachment.file_type = FileType('application/pdf')\n",
    "    attachment.file_name = FileName(OUTPUT_FILE_NAME)\n",
    "    attachment.disposition = Disposition('attachment')\n",
    "    attachment.content_id = ContentId('Example Content ID')\n",
    "    message.attachment = attachment\n",
    "    try:\n",
    "        sendgrid_client = SendGridAPIClient(SENDGRID_API)\n",
    "        response = sendgrid_client.send(message)\n",
    "        print(response.status_code)\n",
    "        print(response.body)\n",
    "        print(response.headers)\n",
    "    except Exception as e:\n",
    "        print(e.message)"
   ]
  },
  {
   "cell_type": "code",
   "execution_count": 13,
   "id": "9757dc0c",
   "metadata": {},
   "outputs": [
    {
     "name": "stdout",
     "output_type": "stream",
     "text": [
      "202\n",
      "b''\n",
      "Server: nginx\n",
      "Date: Mon, 09 Aug 2021 22:14:49 GMT\n",
      "Content-Length: 0\n",
      "Connection: close\n",
      "X-Message-Id: 4HUVCg-7Qmm-bFWc4zfbXQ\n",
      "Access-Control-Allow-Origin: https://sendgrid.api-docs.io\n",
      "Access-Control-Allow-Methods: POST\n",
      "Access-Control-Allow-Headers: Authorization, Content-Type, On-behalf-of, x-sg-elas-acl\n",
      "Access-Control-Max-Age: 600\n",
      "X-No-CORS-Reason: https://sendgrid.com/docs/Classroom/Basics/API/cors.html\n",
      "Strict-Transport-Security: max-age=600; includeSubDomains\n",
      "\n",
      "\n"
     ]
    }
   ],
   "source": [
    "EMAIL_SENDER = \"tiffany.chu@lacity.org\"\n",
    "EMAIL_RECIPIENT = EMAIL_SENDER\n",
    "EMAIL_SUBJECT = \"SendGrid Test Email\"\n",
    "BODY_TEXT = \"<strong>Here's some bolded text.</strong>\"\n",
    "SENDGRID_API = os.environ[\"SENDGRID_API_KEY\"]\n",
    "sendgrid_simple_html(EMAIL_SENDER, EMAIL_RECIPIENT, EMAIL_SUBJECT, BODY_TEXT, SENDGRID_API)"
   ]
  },
  {
   "cell_type": "code",
   "execution_count": 14,
   "id": "c60507a5",
   "metadata": {},
   "outputs": [
    {
     "name": "stdout",
     "output_type": "stream",
     "text": [
      "202\n",
      "b''\n",
      "Server: nginx\n",
      "Date: Mon, 09 Aug 2021 22:15:58 GMT\n",
      "Content-Length: 0\n",
      "Connection: close\n",
      "X-Message-Id: wfzDoSxYQiSdonXuastZ7g\n",
      "Access-Control-Allow-Origin: https://sendgrid.api-docs.io\n",
      "Access-Control-Allow-Methods: POST\n",
      "Access-Control-Allow-Headers: Authorization, Content-Type, On-behalf-of, x-sg-elas-acl\n",
      "Access-Control-Max-Age: 600\n",
      "X-No-CORS-Reason: https://sendgrid.com/docs/Classroom/Basics/API/cors.html\n",
      "Strict-Transport-Security: max-age=600; includeSubDomains\n",
      "\n",
      "\n"
     ]
    }
   ],
   "source": [
    "EMAIL_SUBJECT = \"SendGrid Test Email\"\n",
    "BODY_TEXT = \"See the attached PDF for today's coronavirus-related indicators.\"\n",
    "\n",
    "OUTPUT_FILE_PATH = './How_to_Recalculate_a_Median.pdf'\n",
    "OUTPUT_FILE_NAME = \"TestPDF.pdf\"\n",
    "\n",
    "sendgrid_one_pdf(EMAIL_SENDER, EMAIL_RECIPIENT, EMAIL_SUBJECT, BODY_TEXT, \n",
    "                 OUTPUT_FILE_PATH, OUTPUT_FILE_NAME, SENDGRID_API)"
   ]
  },
  {
   "cell_type": "code",
   "execution_count": 15,
   "id": "6d4dab57",
   "metadata": {},
   "outputs": [
    {
     "name": "stdout",
     "output_type": "stream",
     "text": [
      "202\n",
      "b''\n",
      "Server: nginx\n",
      "Date: Mon, 09 Aug 2021 22:16:26 GMT\n",
      "Content-Length: 0\n",
      "Connection: close\n",
      "X-Message-Id: 54Er_Zb8Sku3R-YMs5xDcA\n",
      "Access-Control-Allow-Origin: https://sendgrid.api-docs.io\n",
      "Access-Control-Allow-Methods: POST\n",
      "Access-Control-Allow-Headers: Authorization, Content-Type, On-behalf-of, x-sg-elas-acl\n",
      "Access-Control-Max-Age: 600\n",
      "X-No-CORS-Reason: https://sendgrid.com/docs/Classroom/Basics/API/cors.html\n",
      "Strict-Transport-Security: max-age=600; includeSubDomains\n",
      "\n",
      "\n"
     ]
    }
   ],
   "source": [
    "EMAIL_RECIPIENT = \"ITAData@lacity.org\"\n",
    "EMAIL_SUBJECT = \"SendGrid Test Email\"\n",
    "BODY_TEXT = \"See the attached PDF for today's coronavirus-related indicators.\"\n",
    "\n",
    "OUTPUT_FILE_PATH = './How_to_Recalculate_a_Median.pdf'\n",
    "OUTPUT_FILE_NAME = \"TestPDF.pdf\"\n",
    "\n",
    "sendgrid_one_pdf(EMAIL_SENDER, EMAIL_RECIPIENT, EMAIL_SUBJECT, BODY_TEXT, \n",
    "                 OUTPUT_FILE_PATH, OUTPUT_FILE_NAME, SENDGRID_API)"
   ]
  },
  {
   "cell_type": "code",
   "execution_count": null,
   "id": "b8676114",
   "metadata": {},
   "outputs": [],
   "source": []
  }
 ],
 "metadata": {
  "kernelspec": {
   "display_name": "Python 3",
   "language": "python",
   "name": "python3"
  },
  "language_info": {
   "codemirror_mode": {
    "name": "ipython",
    "version": 3
   },
   "file_extension": ".py",
   "mimetype": "text/x-python",
   "name": "python",
   "nbconvert_exporter": "python",
   "pygments_lexer": "ipython3",
   "version": "3.7.8"
  }
 },
 "nbformat": 4,
 "nbformat_minor": 5
}
